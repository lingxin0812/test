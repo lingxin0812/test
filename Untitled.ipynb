{
 "cells": [
  {
   "cell_type": "code",
   "execution_count": 16,
   "metadata": {},
   "outputs": [],
   "source": [
    "mydata <- read.csv (\"C:/Diabetes2.csv\")"
   ]
  },
  {
   "cell_type": "markdown",
   "metadata": {},
   "source": [
    "#### Data Preprocessing"
   ]
  },
  {
   "cell_type": "code",
   "execution_count": 18,
   "metadata": {},
   "outputs": [],
   "source": [
    "diabetes <- na.omit(mydata)"
   ]
  },
  {
   "cell_type": "code",
   "execution_count": 19,
   "metadata": {
    "scrolled": true
   },
   "outputs": [
    {
     "data": {
      "text/html": [
       "<table>\n",
       "<thead><tr><th scope=col>Pregnancies</th><th scope=col>Glucose</th><th scope=col>BloodPressure</th><th scope=col>SkinThickness</th><th scope=col>Insulin</th><th scope=col>BMI</th><th scope=col>DiabetesPedigreeFunction</th><th scope=col>Age</th><th scope=col>Outcome</th></tr></thead>\n",
       "<tbody>\n",
       "\t<tr><td>0    </td><td>111  </td><td> 65  </td><td> 0   </td><td>  0  </td><td>24.6 </td><td>0.660</td><td>31   </td><td>0    </td></tr>\n",
       "\t<tr><td>5    </td><td>158  </td><td> 84  </td><td>41   </td><td>210  </td><td>39.4 </td><td>0.395</td><td>29   </td><td>1    </td></tr>\n",
       "\t<tr><td>1    </td><td> 88  </td><td> 78  </td><td>29   </td><td> 76  </td><td>32.0 </td><td>0.365</td><td>29   </td><td>0    </td></tr>\n",
       "\t<tr><td>1    </td><td>193  </td><td> 50  </td><td>16   </td><td>375  </td><td>25.9 </td><td>0.655</td><td>24   </td><td>0    </td></tr>\n",
       "\t<tr><td>8    </td><td>105  </td><td>100  </td><td>36   </td><td>  0  </td><td>43.3 </td><td>0.239</td><td>45   </td><td>1    </td></tr>\n",
       "\t<tr><td>1    </td><td> 77  </td><td> 56  </td><td>30   </td><td> 56  </td><td>33.3 </td><td>1.251</td><td>24   </td><td>0    </td></tr>\n",
       "\t<tr><td>0    </td><td>198  </td><td> 66  </td><td>32   </td><td>274  </td><td>41.3 </td><td>0.502</td><td>28   </td><td>1    </td></tr>\n",
       "\t<tr><td>1    </td><td>108  </td><td> 88  </td><td>19   </td><td>  0  </td><td>27.1 </td><td>0.400</td><td>24   </td><td>0    </td></tr>\n",
       "\t<tr><td>6    </td><td> 92  </td><td> 62  </td><td>32   </td><td>126  </td><td>32.0 </td><td>0.085</td><td>46   </td><td>0    </td></tr>\n",
       "\t<tr><td>8    </td><td>186  </td><td> 90  </td><td>35   </td><td>225  </td><td>34.5 </td><td>0.423</td><td>37   </td><td>1    </td></tr>\n",
       "</tbody>\n",
       "</table>\n"
      ],
      "text/latex": [
       "\\begin{tabular}{r|lllllllll}\n",
       " Pregnancies & Glucose & BloodPressure & SkinThickness & Insulin & BMI & DiabetesPedigreeFunction & Age & Outcome\\\\\n",
       "\\hline\n",
       "\t 0     & 111   &  65   &  0    &   0   & 24.6  & 0.660 & 31    & 0    \\\\\n",
       "\t 5     & 158   &  84   & 41    & 210   & 39.4  & 0.395 & 29    & 1    \\\\\n",
       "\t 1     &  88   &  78   & 29    &  76   & 32.0  & 0.365 & 29    & 0    \\\\\n",
       "\t 1     & 193   &  50   & 16    & 375   & 25.9  & 0.655 & 24    & 0    \\\\\n",
       "\t 8     & 105   & 100   & 36    &   0   & 43.3  & 0.239 & 45    & 1    \\\\\n",
       "\t 1     &  77   &  56   & 30    &  56   & 33.3  & 1.251 & 24    & 0    \\\\\n",
       "\t 0     & 198   &  66   & 32    & 274   & 41.3  & 0.502 & 28    & 1    \\\\\n",
       "\t 1     & 108   &  88   & 19    &   0   & 27.1  & 0.400 & 24    & 0    \\\\\n",
       "\t 6     &  92   &  62   & 32    & 126   & 32.0  & 0.085 & 46    & 0    \\\\\n",
       "\t 8     & 186   &  90   & 35    & 225   & 34.5  & 0.423 & 37    & 1    \\\\\n",
       "\\end{tabular}\n"
      ],
      "text/markdown": [
       "\n",
       "| Pregnancies | Glucose | BloodPressure | SkinThickness | Insulin | BMI | DiabetesPedigreeFunction | Age | Outcome |\n",
       "|---|---|---|---|---|---|---|---|---|\n",
       "| 0     | 111   |  65   |  0    |   0   | 24.6  | 0.660 | 31    | 0     |\n",
       "| 5     | 158   |  84   | 41    | 210   | 39.4  | 0.395 | 29    | 1     |\n",
       "| 1     |  88   |  78   | 29    |  76   | 32.0  | 0.365 | 29    | 0     |\n",
       "| 1     | 193   |  50   | 16    | 375   | 25.9  | 0.655 | 24    | 0     |\n",
       "| 8     | 105   | 100   | 36    |   0   | 43.3  | 0.239 | 45    | 1     |\n",
       "| 1     |  77   |  56   | 30    |  56   | 33.3  | 1.251 | 24    | 0     |\n",
       "| 0     | 198   |  66   | 32    | 274   | 41.3  | 0.502 | 28    | 1     |\n",
       "| 1     | 108   |  88   | 19    |   0   | 27.1  | 0.400 | 24    | 0     |\n",
       "| 6     |  92   |  62   | 32    | 126   | 32.0  | 0.085 | 46    | 0     |\n",
       "| 8     | 186   |  90   | 35    | 225   | 34.5  | 0.423 | 37    | 1     |\n",
       "\n"
      ],
      "text/plain": [
       "   Pregnancies Glucose BloodPressure SkinThickness Insulin BMI \n",
       "1  0           111      65            0              0     24.6\n",
       "2  5           158      84           41            210     39.4\n",
       "3  1            88      78           29             76     32.0\n",
       "4  1           193      50           16            375     25.9\n",
       "5  8           105     100           36              0     43.3\n",
       "6  1            77      56           30             56     33.3\n",
       "7  0           198      66           32            274     41.3\n",
       "8  1           108      88           19              0     27.1\n",
       "9  6            92      62           32            126     32.0\n",
       "10 8           186      90           35            225     34.5\n",
       "   DiabetesPedigreeFunction Age Outcome\n",
       "1  0.660                    31  0      \n",
       "2  0.395                    29  1      \n",
       "3  0.365                    29  0      \n",
       "4  0.655                    24  0      \n",
       "5  0.239                    45  1      \n",
       "6  1.251                    24  0      \n",
       "7  0.502                    28  1      \n",
       "8  0.400                    24  0      \n",
       "9  0.085                    46  0      \n",
       "10 0.423                    37  1      "
      ]
     },
     "metadata": {},
     "output_type": "display_data"
    }
   ],
   "source": [
    "sample_n(diabetes,10)"
   ]
  },
  {
   "cell_type": "code",
   "execution_count": 30,
   "metadata": {},
   "outputs": [],
   "source": [
    "set.seed(123) \n",
    "samples<-diabetes$Outcome %>%\n",
    "    createDataPartition(p=0.8, list =FALSE)\n",
    "training.set <-diabetes [samples,]\n",
    "test.set <- diabetes [-samples,]"
   ]
  },
  {
   "cell_type": "markdown",
   "metadata": {},
   "source": [
    "#### find lambda using cross-validation"
   ]
  },
  {
   "cell_type": "code",
   "execution_count": 44,
   "metadata": {},
   "outputs": [],
   "source": [
    "library(glmnet)\n",
    "set.seed(123)\n",
    "x <- model.matrix (Outcome~., training.set) [,-1]\n",
    "y <- (training.set$Outcome)\n",
    "lasso <- cv.glmnet(x,y,alpha = 1, family = \"binomial\")\n"
   ]
  },
  {
   "cell_type": "markdown",
   "metadata": {},
   "source": [
    "#### fit model on training set with lambda.min"
   ]
  },
  {
   "cell_type": "code",
   "execution_count": 48,
   "metadata": {},
   "outputs": [],
   "source": [
    "model1 <- glmnet (x, y, alpha =1, family = \"binomial\", lambda = lasso$lambda.min)"
   ]
  },
  {
   "cell_type": "code",
   "execution_count": 34,
   "metadata": {},
   "outputs": [
    {
     "data": {
      "text/plain": [
       "9 x 1 sparse Matrix of class \"dgCMatrix\"\n",
       "                                    s0\n",
       "(Intercept)              -7.7717284420\n",
       "Pregnancies               0.1084990932\n",
       "Glucose                   0.0333727932\n",
       "BloodPressure            -0.0102396668\n",
       "SkinThickness             .           \n",
       "Insulin                  -0.0005417745\n",
       "BMI                       0.0771842702\n",
       "DiabetesPedigreeFunction  0.6580997382\n",
       "Age                       0.0135418045"
      ]
     },
     "metadata": {},
     "output_type": "display_data"
    }
   ],
   "source": [
    "coef(model)"
   ]
  },
  {
   "cell_type": "markdown",
   "metadata": {},
   "source": [
    "##### make predictions on test set"
   ]
  },
  {
   "cell_type": "code",
   "execution_count": 50,
   "metadata": {},
   "outputs": [],
   "source": [
    "test.data <- model.matrix(Outcome ~.,test.set) [, -1]\n",
    "probability <- model1 %>% predict (newx= test.data)\n",
    "predicted.outcome <- ifelse(probability >0.5 ,1 , 0)"
   ]
  },
  {
   "cell_type": "markdown",
   "metadata": {},
   "source": [
    "##### model accuracy"
   ]
  },
  {
   "cell_type": "code",
   "execution_count": 42,
   "metadata": {},
   "outputs": [
    {
     "data": {
      "text/html": [
       "0.777777777777778"
      ],
      "text/latex": [
       "0.777777777777778"
      ],
      "text/markdown": [
       "0.777777777777778"
      ],
      "text/plain": [
       "[1] 0.7777778"
      ]
     },
     "metadata": {},
     "output_type": "display_data"
    }
   ],
   "source": [
    "observed <- test.set$Outcome\n",
    "mean(predicted.outcome == observed)"
   ]
  },
  {
   "cell_type": "markdown",
   "metadata": {},
   "source": [
    "#### fit model on training set with lambda.1se"
   ]
  },
  {
   "cell_type": "code",
   "execution_count": 49,
   "metadata": {},
   "outputs": [],
   "source": [
    "model2 <- glmnet (x, y, alpha =1, family = \"binomial\", lambda = lasso$lambda.1se)"
   ]
  },
  {
   "cell_type": "markdown",
   "metadata": {},
   "source": [
    "##### make prediction"
   ]
  },
  {
   "cell_type": "code",
   "execution_count": 51,
   "metadata": {},
   "outputs": [],
   "source": [
    "test.data <- model.matrix(Outcome ~.,test.set) [, -1]\n",
    "probability <- model2 %>% predict (newx= test.data)\n",
    "predicted.outcome <- ifelse(probability >0.5 ,1 , 0)"
   ]
  },
  {
   "cell_type": "markdown",
   "metadata": {},
   "source": [
    "##### model accuracy"
   ]
  },
  {
   "cell_type": "code",
   "execution_count": 53,
   "metadata": {},
   "outputs": [
    {
     "data": {
      "text/html": [
       "0.764705882352941"
      ],
      "text/latex": [
       "0.764705882352941"
      ],
      "text/markdown": [
       "0.764705882352941"
      ],
      "text/plain": [
       "[1] 0.7647059"
      ]
     },
     "metadata": {},
     "output_type": "display_data"
    }
   ],
   "source": [
    "observed <- test.set$Outcome\n",
    "mean(predicted.outcome == observed)"
   ]
  },
  {
   "cell_type": "code",
   "execution_count": 45,
   "metadata": {},
   "outputs": [
    {
     "data": {
      "image/png": "[encoded data removed]",
      "text/plain": [
       "plot without title"
      ]
     },
     "metadata": {},
     "output_type": "display_data"
    }
   ],
   "source": [
    "plot(lasso)"
   ]
  },
  {
   "cell_type": "code",
   "execution_count": 46,
   "metadata": {},
   "outputs": [
    {
     "data": {
      "text/html": [
       "0.00499478191095067"
      ],
      "text/latex": [
       "0.00499478191095067"
      ],
      "text/markdown": [
       "0.00499478191095067"
      ],
      "text/plain": [
       "[1] 0.004994782"
      ]
     },
     "metadata": {},
     "output_type": "display_data"
    }
   ],
   "source": [
    "lasso$lambda.min"
   ]
  },
  {
   "cell_type": "code",
   "execution_count": 47,
   "metadata": {},
   "outputs": [
    {
     "data": {
      "text/html": [
       "0.0321068232728424"
      ],
      "text/latex": [
       "0.0321068232728424"
      ],
      "text/markdown": [
       "0.0321068232728424"
      ],
      "text/plain": [
       "[1] 0.03210682"
      ]
     },
     "metadata": {},
     "output_type": "display_data"
    }
   ],
   "source": [
    "lasso$lambda.1se"
   ]
  },
  {
   "cell_type": "markdown",
   "metadata": {},
   "source": [
    "#### fit full logistic model on training and make prediction"
   ]
  },
  {
   "cell_type": "code",
   "execution_count": 55,
   "metadata": {},
   "outputs": [],
   "source": [
    "model3 <-glm(Outcome ~.,data= training.set, family = binomial)\n",
    "probabilities <- model3 %>% predict (test.set, type = \"response\")\n",
    "predicted <- ifelse (probabilities > 0.5 ,1, 0)"
   ]
  },
  {
   "cell_type": "markdown",
   "metadata": {},
   "source": [
    "##### model accuracy"
   ]
  },
  {
   "cell_type": "code",
   "execution_count": 56,
   "metadata": {},
   "outputs": [
    {
     "data": {
      "text/html": [
       "0.790849673202614"
      ],
      "text/latex": [
       "0.790849673202614"
      ],
      "text/markdown": [
       "0.790849673202614"
      ],
      "text/plain": [
       "[1] 0.7908497"
      ]
     },
     "metadata": {},
     "output_type": "display_data"
    }
   ],
   "source": [
    "observed <- test.set$Outcome\n",
    "mean (predicted == observed)"
   ]
  },
  {
   "cell_type": "code",
   "execution_count": null,
   "metadata": {},
   "outputs": [],
   "source": []
  }
 ],
 "metadata": {
  "kernelspec": {
   "display_name": "R",
   "language": "R",
   "name": "ir"
  },
  "language_info": {
   "codemirror_mode": "r",
   "file_extension": ".r",
   "mimetype": "text/x-r-source",
   "name": "R",
   "pygments_lexer": "r",
   "version": "3.6.1"
  }
 },
 "nbformat": 4,
 "nbformat_minor": 4
}
